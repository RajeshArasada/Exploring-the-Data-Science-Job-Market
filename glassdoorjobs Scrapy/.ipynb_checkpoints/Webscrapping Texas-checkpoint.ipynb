{
 "cells": [
  {
   "cell_type": "code",
   "execution_count": 1,
   "metadata": {},
   "outputs": [
    {
     "name": "stdout",
     "output_type": "stream",
     "text": [
      "/Users/rajesharasada/Desktop/glassdoorjobs\r\n"
     ]
    }
   ],
   "source": [
    "!pwd"
   ]
  },
  {
   "cell_type": "code",
   "execution_count": 3,
   "metadata": {},
   "outputs": [],
   "source": [
    "import numpy as np\n",
    "import pandas as pd"
   ]
  },
  {
   "cell_type": "code",
   "execution_count": 159,
   "metadata": {},
   "outputs": [],
   "source": [
    "ma = pd.read_csv('job_links_MA.csv')"
   ]
  },
  {
   "cell_type": "code",
   "execution_count": 160,
   "metadata": {},
   "outputs": [
    {
     "name": "stdout",
     "output_type": "stream",
     "text": [
      "(8, 1)\n"
     ]
    }
   ],
   "source": [
    "print(ma.shape)"
   ]
  },
  {
   "cell_type": "code",
   "execution_count": 161,
   "metadata": {},
   "outputs": [
    {
     "data": {
      "text/html": [
       "<div>\n",
       "<style scoped>\n",
       "    .dataframe tbody tr th:only-of-type {\n",
       "        vertical-align: middle;\n",
       "    }\n",
       "\n",
       "    .dataframe tbody tr th {\n",
       "        vertical-align: top;\n",
       "    }\n",
       "\n",
       "    .dataframe thead th {\n",
       "        text-align: right;\n",
       "    }\n",
       "</style>\n",
       "<table border=\"1\" class=\"dataframe\">\n",
       "  <thead>\n",
       "    <tr style=\"text-align: right;\">\n",
       "      <th></th>\n",
       "      <th>job_links</th>\n",
       "    </tr>\n",
       "  </thead>\n",
       "  <tbody>\n",
       "    <tr>\n",
       "      <th>0</th>\n",
       "      <td>/partner/jobListing.htm?pos=901&amp;ao=14295&amp;s=58&amp;...</td>\n",
       "    </tr>\n",
       "    <tr>\n",
       "      <th>1</th>\n",
       "      <td>/partner/jobListing.htm?pos=801&amp;ao=319886&amp;s=58...</td>\n",
       "    </tr>\n",
       "    <tr>\n",
       "      <th>2</th>\n",
       "      <td>/partner/jobListing.htm?pos=701&amp;ao=4120&amp;s=58&amp;g...</td>\n",
       "    </tr>\n",
       "    <tr>\n",
       "      <th>3</th>\n",
       "      <td>/partner/jobListing.htm?pos=601&amp;ao=297237&amp;s=58...</td>\n",
       "    </tr>\n",
       "    <tr>\n",
       "      <th>4</th>\n",
       "      <td>/partner/jobListing.htm?pos=501&amp;ao=317874&amp;s=14...</td>\n",
       "    </tr>\n",
       "  </tbody>\n",
       "</table>\n",
       "</div>"
      ],
      "text/plain": [
       "                                           job_links\n",
       "0  /partner/jobListing.htm?pos=901&ao=14295&s=58&...\n",
       "1  /partner/jobListing.htm?pos=801&ao=319886&s=58...\n",
       "2  /partner/jobListing.htm?pos=701&ao=4120&s=58&g...\n",
       "3  /partner/jobListing.htm?pos=601&ao=297237&s=58...\n",
       "4  /partner/jobListing.htm?pos=501&ao=317874&s=14..."
      ]
     },
     "execution_count": 161,
     "metadata": {},
     "output_type": "execute_result"
    }
   ],
   "source": [
    "ma.head()"
   ]
  },
  {
   "cell_type": "code",
   "execution_count": 183,
   "metadata": {},
   "outputs": [
    {
     "data": {
      "text/plain": [
       "'/partner/jobListing.htm?pos=201&ao=297635&s=149&guid=1234567890abcdef1234567890abcdef&src=GD_JOB_AD&t=SRFJ&extid=4&exst=OL&ist=&ast=OL&vt=w&slr=true&rtp=0&cs=1_c0b5b3b0&cb=1539382046751&jobListingId=2972973369,/partner/jobListing.htm?pos=202&ao=297635&s=149&guid=1234567890abcdef1234567890abcdef&src=GD_JOB_AD&t=SRFJ&extid=4&exst=OL&ist=&ast=OL&vt=w&slr=true&rtp=0&cs=1_1fa14b14&cb=1539382046752&jobListingId=2753380532,/partner/jobListing.htm?pos=201&ao=296846&s=58&guid=1234567890abcdef1234567890abcdef&src=GD_JOB_AD&t=SR&extid=1&exst=OL&ist=&ast=OL&vt=w&slr=true&rtp=0&cs=1_6ff7b0e8&cb=1539382046754&jobListingId=2980769597,/partner/jobListing.htm?pos=202&ao=133232&s=58&guid=1234567890abcdef1234567890abcdef&src=GD_JOB_AD&t=SR&extid=1&exst=OL&ist=&ast=OL&vt=w&slr=true&rtp=0&cs=1_964a2382&cb=1539382046755&jobListingId=2949882719,/partner/jobListing.htm?pos=203&ao=362682&s=58&guid=1234567890abcdef1234567890abcdef&src=GD_JOB_AD&t=SR&extid=1&exst=OL&ist=&ast=OL&vt=w&slr=true&rtp=0&cs=1_83a373aa&cb=1539382046755&jobListingId=2803507278,/partner/jobListing.htm?pos=204&ao=322106&s=58&guid=1234567890abcdef1234567890abcdef&src=GD_JOB_AD&t=SR&extid=1&exst=OL&ist=&ast=OL&vt=w&slr=true&rtp=0&cs=1_5b02a345&cb=1539382046756&jobListingId=2902483729,/partner/jobListing.htm?pos=205&ao=297638&s=58&guid=1234567890abcdef1234567890abcdef&src=GD_JOB_AD&t=SR&extid=1&exst=OL&ist=&ast=OL&vt=w&slr=true&rtp=0&cs=1_b3718daf&cb=1539382046757&jobListingId=2848483458,/partner/jobListing.htm?pos=206&ao=4120&s=58&guid=1234567890abcdef1234567890abcdef&src=GD_JOB_AD&t=SR&extid=1&exst=OL&ist=&ast=OL&vt=w&slr=true&rtp=0&cs=1_0365cdf5&cb=1539382046759&jobListingId=2942858771,/partner/jobListing.htm?pos=207&ao=4128&s=58&guid=1234567890abcdef1234567890abcdef&src=GD_JOB_AD&t=SR&extid=1&exst=OL&ist=&ast=OL&vt=w&slr=true&rtp=0&cs=1_96c85ba5&cb=1539382046759&jobListingId=2940570639,/partner/jobListing.htm?pos=208&ao=251392&s=58&guid=1234567890abcdef1234567890abcdef&src=GD_JOB_AD&t=SR&extid=1&exst=OL&ist=&ast=OL&vt=w&slr=true&rtp=0&aa=1&ea=1&cs=1_37787482&cb=1539382046760&jobListingId=2982364049,/partner/jobListing.htm?pos=209&ao=140152&s=58&guid=1234567890abcdef1234567890abcdef&src=GD_JOB_AD&t=SR&extid=1&exst=OL&ist=&ast=OL&vt=w&slr=true&rtp=0&cs=1_b303f7b5&cb=1539382046761&jobListingId=2910958796,/partner/jobListing.htm?pos=210&ao=4120&s=58&guid=1234567890abcdef1234567890abcdef&src=GD_JOB_AD&t=SR&extid=1&exst=OL&ist=&ast=OL&vt=w&slr=true&rtp=0&cs=1_2ede9be4&cb=1539382046762&jobListingId=2987494054,/partner/jobListing.htm?pos=211&ao=8095&s=58&guid=1234567890abcdef1234567890abcdef&src=GD_JOB_AD&t=SR&extid=1&exst=OL&ist=&ast=OL&vt=w&slr=true&rtp=0&cs=1_530d3dca&cb=1539382046763&jobListingId=2930264443,/partner/jobListing.htm?pos=212&ao=136821&s=58&guid=1234567890abcdef1234567890abcdef&src=GD_JOB_AD&t=SR&extid=1&exst=OL&ist=&ast=OL&vt=w&slr=true&rtp=0&aa=1&ea=1&cs=1_085fdca9&cb=1539382046765&jobListingId=2725035780,/partner/jobListing.htm?pos=213&ao=374215&s=58&guid=1234567890abcdef1234567890abcdef&src=GD_JOB_AD&t=SR&extid=1&exst=OL&ist=&ast=OL&vt=w&slr=true&rtp=0&cs=1_66fc8b95&cb=1539382046766&jobListingId=2678082322,/partner/jobListing.htm?pos=214&ao=289020&s=58&guid=1234567890abcdef1234567890abcdef&src=GD_JOB_AD&t=SR&extid=1&exst=OL&ist=&ast=OL&vt=w&slr=true&rtp=0&aa=1&ea=1&cs=1_9a58eda9&cb=1539382046767&jobListingId=2823620656,/partner/jobListing.htm?pos=215&ao=128229&s=58&guid=1234567890abcdef1234567890abcdef&src=GD_JOB_AD&t=SR&extid=1&exst=OL&ist=&ast=OL&vt=w&slr=true&rtp=0&cs=1_581ac288&cb=1539382046769&jobListingId=2987588619,/partner/jobListing.htm?pos=216&ao=182481&s=58&guid=1234567890abcdef1234567890abcdef&src=GD_JOB_AD&t=SR&extid=1&exst=OL&ist=&ast=OL&vt=w&slr=true&rtp=0&cs=1_a20d4dc0&cb=1539382046770&jobListingId=2918407861,/partner/jobListing.htm?pos=217&ao=133036&s=58&guid=1234567890abcdef1234567890abcdef&src=GD_JOB_AD&t=SR&extid=1&exst=OL&ist=&ast=OL&vt=w&slr=true&rtp=0&cs=1_ba4982fe&cb=1539382046771&jobListingId=2927553237,/partner/jobListing.htm?pos=218&ao=182894&s=58&guid=1234567890abcdef1234567890abcdef&src=GD_JOB_AD&t=SR&extid=1&exst=OL&ist=&ast=OL&vt=w&slr=true&rtp=0&cs=1_b3bca7f0&cb=1539382046772&jobListingId=2972007193,/partner/jobListing.htm?pos=219&ao=359521&s=58&guid=1234567890abcdef1234567890abcdef&src=GD_JOB_AD&t=SR&extid=1&exst=OL&ist=&ast=OL&vt=w&slr=true&rtp=0&cs=1_49540f1a&cb=1539382046774&jobListingId=2859410986,/partner/jobListing.htm?pos=220&ao=374215&s=58&guid=1234567890abcdef1234567890abcdef&src=GD_JOB_AD&t=SR&extid=1&exst=OL&ist=&ast=OL&vt=w&slr=true&rtp=0&cs=1_f1d54999&cb=1539382046775&jobListingId=2982921586,/partner/jobListing.htm?pos=221&ao=136726&s=58&guid=1234567890abcdef1234567890abcdef&src=GD_JOB_AD&t=SR&extid=1&exst=OL&ist=&ast=OL&vt=w&slr=true&rtp=0&cs=1_84384d12&cb=1539382046776&jobListingId=2988006389,/partner/jobListing.htm?pos=222&ao=133392&s=58&guid=1234567890abcdef1234567890abcdef&src=GD_JOB_AD&t=SR&extid=1&exst=OL&ist=&ast=OL&vt=w&slr=true&rtp=0&cs=1_3b8d9fee&cb=1539382046778&jobListingId=2836814878,/partner/jobListing.htm?pos=223&ao=157444&s=58&guid=1234567890abcdef1234567890abcdef&src=GD_JOB_AD&t=SR&extid=1&exst=OL&ist=&ast=OL&vt=w&slr=true&rtp=0&cs=1_2846c0c9&cb=1539382046779&jobListingId=2986883410,/partner/jobListing.htm?pos=224&ao=179001&s=58&guid=1234567890abcdef1234567890abcdef&src=GD_JOB_AD&t=SR&extid=1&exst=OL&ist=&ast=OL&vt=w&slr=true&rtp=0&cs=1_2a9f6d93&cb=1539382046785&jobListingId=2959048202,/partner/jobListing.htm?pos=225&ao=173354&s=58&guid=1234567890abcdef1234567890abcdef&src=GD_JOB_AD&t=SR&extid=1&exst=OL&ist=&ast=OL&vt=w&slr=true&rtp=0&cs=1_f33c0c3a&cb=1539382046786&jobListingId=2983367612,/partner/jobListing.htm?pos=226&ao=297237&s=58&guid=1234567890abcdef1234567890abcdef&src=GD_JOB_AD&t=SR&extid=1&exst=OL&ist=&ast=OL&vt=w&slr=true&rtp=0&cs=1_d836cf7f&cb=1539382046788&jobListingId=2814617023,/partner/jobListing.htm?pos=227&ao=349377&s=58&guid=1234567890abcdef1234567890abcdef&src=GD_JOB_AD&t=SR&extid=1&exst=OL&ist=&ast=OL&vt=w&slr=true&rtp=0&cs=1_c93df088&cb=1539382046789&jobListingId=2766856386,/partner/jobListing.htm?pos=228&ao=190222&s=58&guid=1234567890abcdef1234567890abcdef&src=GD_JOB_AD&t=SR&extid=1&exst=OL&ist=&ast=OL&vt=w&slr=true&rtp=0&cs=1_6fd03b13&cb=1539382046790&jobListingId=2834799767,/partner/jobListing.htm?pos=229&ao=83255&s=58&guid=1234567890abcdef1234567890abcdef&src=GD_JOB_AD&t=SR&extid=1&exst=OL&ist=&ast=OL&vt=w&slr=true&rtp=0&cs=1_e8bf8671&cb=1539382046791&jobListingId=2959317735'"
      ]
     },
     "execution_count": 183,
     "metadata": {},
     "output_type": "execute_result"
    }
   ],
   "source": [
    "ma_page_7 = ma['job_links'][7]\n",
    "ma_page_7"
   ]
  },
  {
   "cell_type": "code",
   "execution_count": 184,
   "metadata": {
    "scrolled": false
   },
   "outputs": [
    {
     "data": {
      "text/plain": [
       "['/partner/jobListing.htm?pos=201&ao=297635&s=149&guid=1234567890abcdef1234567890abcdef&src=GD_JOB_AD&t=SRFJ&extid=4&exst=OL&ist=&ast=OL&vt=w&slr=true&rtp=0&cs=1_c0b5b3b0&cb=1539382046751&jobListingId=2972973369',\n",
       " '/partner/jobListing.htm?pos=202&ao=297635&s=149&guid=1234567890abcdef1234567890abcdef&src=GD_JOB_AD&t=SRFJ&extid=4&exst=OL&ist=&ast=OL&vt=w&slr=true&rtp=0&cs=1_1fa14b14&cb=1539382046752&jobListingId=2753380532',\n",
       " '/partner/jobListing.htm?pos=201&ao=296846&s=58&guid=1234567890abcdef1234567890abcdef&src=GD_JOB_AD&t=SR&extid=1&exst=OL&ist=&ast=OL&vt=w&slr=true&rtp=0&cs=1_6ff7b0e8&cb=1539382046754&jobListingId=2980769597',\n",
       " '/partner/jobListing.htm?pos=202&ao=133232&s=58&guid=1234567890abcdef1234567890abcdef&src=GD_JOB_AD&t=SR&extid=1&exst=OL&ist=&ast=OL&vt=w&slr=true&rtp=0&cs=1_964a2382&cb=1539382046755&jobListingId=2949882719',\n",
       " '/partner/jobListing.htm?pos=203&ao=362682&s=58&guid=1234567890abcdef1234567890abcdef&src=GD_JOB_AD&t=SR&extid=1&exst=OL&ist=&ast=OL&vt=w&slr=true&rtp=0&cs=1_83a373aa&cb=1539382046755&jobListingId=2803507278',\n",
       " '/partner/jobListing.htm?pos=204&ao=322106&s=58&guid=1234567890abcdef1234567890abcdef&src=GD_JOB_AD&t=SR&extid=1&exst=OL&ist=&ast=OL&vt=w&slr=true&rtp=0&cs=1_5b02a345&cb=1539382046756&jobListingId=2902483729',\n",
       " '/partner/jobListing.htm?pos=205&ao=297638&s=58&guid=1234567890abcdef1234567890abcdef&src=GD_JOB_AD&t=SR&extid=1&exst=OL&ist=&ast=OL&vt=w&slr=true&rtp=0&cs=1_b3718daf&cb=1539382046757&jobListingId=2848483458',\n",
       " '/partner/jobListing.htm?pos=206&ao=4120&s=58&guid=1234567890abcdef1234567890abcdef&src=GD_JOB_AD&t=SR&extid=1&exst=OL&ist=&ast=OL&vt=w&slr=true&rtp=0&cs=1_0365cdf5&cb=1539382046759&jobListingId=2942858771',\n",
       " '/partner/jobListing.htm?pos=207&ao=4128&s=58&guid=1234567890abcdef1234567890abcdef&src=GD_JOB_AD&t=SR&extid=1&exst=OL&ist=&ast=OL&vt=w&slr=true&rtp=0&cs=1_96c85ba5&cb=1539382046759&jobListingId=2940570639',\n",
       " '/partner/jobListing.htm?pos=208&ao=251392&s=58&guid=1234567890abcdef1234567890abcdef&src=GD_JOB_AD&t=SR&extid=1&exst=OL&ist=&ast=OL&vt=w&slr=true&rtp=0&aa=1&ea=1&cs=1_37787482&cb=1539382046760&jobListingId=2982364049',\n",
       " '/partner/jobListing.htm?pos=209&ao=140152&s=58&guid=1234567890abcdef1234567890abcdef&src=GD_JOB_AD&t=SR&extid=1&exst=OL&ist=&ast=OL&vt=w&slr=true&rtp=0&cs=1_b303f7b5&cb=1539382046761&jobListingId=2910958796',\n",
       " '/partner/jobListing.htm?pos=210&ao=4120&s=58&guid=1234567890abcdef1234567890abcdef&src=GD_JOB_AD&t=SR&extid=1&exst=OL&ist=&ast=OL&vt=w&slr=true&rtp=0&cs=1_2ede9be4&cb=1539382046762&jobListingId=2987494054',\n",
       " '/partner/jobListing.htm?pos=211&ao=8095&s=58&guid=1234567890abcdef1234567890abcdef&src=GD_JOB_AD&t=SR&extid=1&exst=OL&ist=&ast=OL&vt=w&slr=true&rtp=0&cs=1_530d3dca&cb=1539382046763&jobListingId=2930264443',\n",
       " '/partner/jobListing.htm?pos=212&ao=136821&s=58&guid=1234567890abcdef1234567890abcdef&src=GD_JOB_AD&t=SR&extid=1&exst=OL&ist=&ast=OL&vt=w&slr=true&rtp=0&aa=1&ea=1&cs=1_085fdca9&cb=1539382046765&jobListingId=2725035780',\n",
       " '/partner/jobListing.htm?pos=213&ao=374215&s=58&guid=1234567890abcdef1234567890abcdef&src=GD_JOB_AD&t=SR&extid=1&exst=OL&ist=&ast=OL&vt=w&slr=true&rtp=0&cs=1_66fc8b95&cb=1539382046766&jobListingId=2678082322',\n",
       " '/partner/jobListing.htm?pos=214&ao=289020&s=58&guid=1234567890abcdef1234567890abcdef&src=GD_JOB_AD&t=SR&extid=1&exst=OL&ist=&ast=OL&vt=w&slr=true&rtp=0&aa=1&ea=1&cs=1_9a58eda9&cb=1539382046767&jobListingId=2823620656',\n",
       " '/partner/jobListing.htm?pos=215&ao=128229&s=58&guid=1234567890abcdef1234567890abcdef&src=GD_JOB_AD&t=SR&extid=1&exst=OL&ist=&ast=OL&vt=w&slr=true&rtp=0&cs=1_581ac288&cb=1539382046769&jobListingId=2987588619',\n",
       " '/partner/jobListing.htm?pos=216&ao=182481&s=58&guid=1234567890abcdef1234567890abcdef&src=GD_JOB_AD&t=SR&extid=1&exst=OL&ist=&ast=OL&vt=w&slr=true&rtp=0&cs=1_a20d4dc0&cb=1539382046770&jobListingId=2918407861',\n",
       " '/partner/jobListing.htm?pos=217&ao=133036&s=58&guid=1234567890abcdef1234567890abcdef&src=GD_JOB_AD&t=SR&extid=1&exst=OL&ist=&ast=OL&vt=w&slr=true&rtp=0&cs=1_ba4982fe&cb=1539382046771&jobListingId=2927553237',\n",
       " '/partner/jobListing.htm?pos=218&ao=182894&s=58&guid=1234567890abcdef1234567890abcdef&src=GD_JOB_AD&t=SR&extid=1&exst=OL&ist=&ast=OL&vt=w&slr=true&rtp=0&cs=1_b3bca7f0&cb=1539382046772&jobListingId=2972007193',\n",
       " '/partner/jobListing.htm?pos=219&ao=359521&s=58&guid=1234567890abcdef1234567890abcdef&src=GD_JOB_AD&t=SR&extid=1&exst=OL&ist=&ast=OL&vt=w&slr=true&rtp=0&cs=1_49540f1a&cb=1539382046774&jobListingId=2859410986',\n",
       " '/partner/jobListing.htm?pos=220&ao=374215&s=58&guid=1234567890abcdef1234567890abcdef&src=GD_JOB_AD&t=SR&extid=1&exst=OL&ist=&ast=OL&vt=w&slr=true&rtp=0&cs=1_f1d54999&cb=1539382046775&jobListingId=2982921586',\n",
       " '/partner/jobListing.htm?pos=221&ao=136726&s=58&guid=1234567890abcdef1234567890abcdef&src=GD_JOB_AD&t=SR&extid=1&exst=OL&ist=&ast=OL&vt=w&slr=true&rtp=0&cs=1_84384d12&cb=1539382046776&jobListingId=2988006389',\n",
       " '/partner/jobListing.htm?pos=222&ao=133392&s=58&guid=1234567890abcdef1234567890abcdef&src=GD_JOB_AD&t=SR&extid=1&exst=OL&ist=&ast=OL&vt=w&slr=true&rtp=0&cs=1_3b8d9fee&cb=1539382046778&jobListingId=2836814878',\n",
       " '/partner/jobListing.htm?pos=223&ao=157444&s=58&guid=1234567890abcdef1234567890abcdef&src=GD_JOB_AD&t=SR&extid=1&exst=OL&ist=&ast=OL&vt=w&slr=true&rtp=0&cs=1_2846c0c9&cb=1539382046779&jobListingId=2986883410',\n",
       " '/partner/jobListing.htm?pos=224&ao=179001&s=58&guid=1234567890abcdef1234567890abcdef&src=GD_JOB_AD&t=SR&extid=1&exst=OL&ist=&ast=OL&vt=w&slr=true&rtp=0&cs=1_2a9f6d93&cb=1539382046785&jobListingId=2959048202',\n",
       " '/partner/jobListing.htm?pos=225&ao=173354&s=58&guid=1234567890abcdef1234567890abcdef&src=GD_JOB_AD&t=SR&extid=1&exst=OL&ist=&ast=OL&vt=w&slr=true&rtp=0&cs=1_f33c0c3a&cb=1539382046786&jobListingId=2983367612',\n",
       " '/partner/jobListing.htm?pos=226&ao=297237&s=58&guid=1234567890abcdef1234567890abcdef&src=GD_JOB_AD&t=SR&extid=1&exst=OL&ist=&ast=OL&vt=w&slr=true&rtp=0&cs=1_d836cf7f&cb=1539382046788&jobListingId=2814617023',\n",
       " '/partner/jobListing.htm?pos=227&ao=349377&s=58&guid=1234567890abcdef1234567890abcdef&src=GD_JOB_AD&t=SR&extid=1&exst=OL&ist=&ast=OL&vt=w&slr=true&rtp=0&cs=1_c93df088&cb=1539382046789&jobListingId=2766856386',\n",
       " '/partner/jobListing.htm?pos=228&ao=190222&s=58&guid=1234567890abcdef1234567890abcdef&src=GD_JOB_AD&t=SR&extid=1&exst=OL&ist=&ast=OL&vt=w&slr=true&rtp=0&cs=1_6fd03b13&cb=1539382046790&jobListingId=2834799767',\n",
       " '/partner/jobListing.htm?pos=229&ao=83255&s=58&guid=1234567890abcdef1234567890abcdef&src=GD_JOB_AD&t=SR&extid=1&exst=OL&ist=&ast=OL&vt=w&slr=true&rtp=0&cs=1_e8bf8671&cb=1539382046791&jobListingId=2959317735']"
      ]
     },
     "execution_count": 184,
     "metadata": {},
     "output_type": "execute_result"
    }
   ],
   "source": [
    "ma_page_7_urls = ma_page_7.split(',')\n",
    "ma_page_7_urls"
   ]
  },
  {
   "cell_type": "code",
   "execution_count": 185,
   "metadata": {},
   "outputs": [
    {
     "data": {
      "text/plain": [
       "['https://www.glassdoor.com/partner/jobListing.htm?pos=201&ao=297635&s=149&guid=1234567890abcdef1234567890abcdef&src=GD_JOB_AD&t=SRFJ&extid=4&exst=OL&ist=&ast=OL&vt=w&slr=true&rtp=0&cs=1_c0b5b3b0&cb=1539382046751&jobListingId=2972973369',\n",
       " 'https://www.glassdoor.com/partner/jobListing.htm?pos=202&ao=297635&s=149&guid=1234567890abcdef1234567890abcdef&src=GD_JOB_AD&t=SRFJ&extid=4&exst=OL&ist=&ast=OL&vt=w&slr=true&rtp=0&cs=1_1fa14b14&cb=1539382046752&jobListingId=2753380532',\n",
       " 'https://www.glassdoor.com/partner/jobListing.htm?pos=201&ao=296846&s=58&guid=1234567890abcdef1234567890abcdef&src=GD_JOB_AD&t=SR&extid=1&exst=OL&ist=&ast=OL&vt=w&slr=true&rtp=0&cs=1_6ff7b0e8&cb=1539382046754&jobListingId=2980769597',\n",
       " 'https://www.glassdoor.com/partner/jobListing.htm?pos=202&ao=133232&s=58&guid=1234567890abcdef1234567890abcdef&src=GD_JOB_AD&t=SR&extid=1&exst=OL&ist=&ast=OL&vt=w&slr=true&rtp=0&cs=1_964a2382&cb=1539382046755&jobListingId=2949882719',\n",
       " 'https://www.glassdoor.com/partner/jobListing.htm?pos=203&ao=362682&s=58&guid=1234567890abcdef1234567890abcdef&src=GD_JOB_AD&t=SR&extid=1&exst=OL&ist=&ast=OL&vt=w&slr=true&rtp=0&cs=1_83a373aa&cb=1539382046755&jobListingId=2803507278',\n",
       " 'https://www.glassdoor.com/partner/jobListing.htm?pos=204&ao=322106&s=58&guid=1234567890abcdef1234567890abcdef&src=GD_JOB_AD&t=SR&extid=1&exst=OL&ist=&ast=OL&vt=w&slr=true&rtp=0&cs=1_5b02a345&cb=1539382046756&jobListingId=2902483729',\n",
       " 'https://www.glassdoor.com/partner/jobListing.htm?pos=205&ao=297638&s=58&guid=1234567890abcdef1234567890abcdef&src=GD_JOB_AD&t=SR&extid=1&exst=OL&ist=&ast=OL&vt=w&slr=true&rtp=0&cs=1_b3718daf&cb=1539382046757&jobListingId=2848483458',\n",
       " 'https://www.glassdoor.com/partner/jobListing.htm?pos=206&ao=4120&s=58&guid=1234567890abcdef1234567890abcdef&src=GD_JOB_AD&t=SR&extid=1&exst=OL&ist=&ast=OL&vt=w&slr=true&rtp=0&cs=1_0365cdf5&cb=1539382046759&jobListingId=2942858771',\n",
       " 'https://www.glassdoor.com/partner/jobListing.htm?pos=207&ao=4128&s=58&guid=1234567890abcdef1234567890abcdef&src=GD_JOB_AD&t=SR&extid=1&exst=OL&ist=&ast=OL&vt=w&slr=true&rtp=0&cs=1_96c85ba5&cb=1539382046759&jobListingId=2940570639',\n",
       " 'https://www.glassdoor.com/partner/jobListing.htm?pos=208&ao=251392&s=58&guid=1234567890abcdef1234567890abcdef&src=GD_JOB_AD&t=SR&extid=1&exst=OL&ist=&ast=OL&vt=w&slr=true&rtp=0&aa=1&ea=1&cs=1_37787482&cb=1539382046760&jobListingId=2982364049',\n",
       " 'https://www.glassdoor.com/partner/jobListing.htm?pos=209&ao=140152&s=58&guid=1234567890abcdef1234567890abcdef&src=GD_JOB_AD&t=SR&extid=1&exst=OL&ist=&ast=OL&vt=w&slr=true&rtp=0&cs=1_b303f7b5&cb=1539382046761&jobListingId=2910958796',\n",
       " 'https://www.glassdoor.com/partner/jobListing.htm?pos=210&ao=4120&s=58&guid=1234567890abcdef1234567890abcdef&src=GD_JOB_AD&t=SR&extid=1&exst=OL&ist=&ast=OL&vt=w&slr=true&rtp=0&cs=1_2ede9be4&cb=1539382046762&jobListingId=2987494054',\n",
       " 'https://www.glassdoor.com/partner/jobListing.htm?pos=211&ao=8095&s=58&guid=1234567890abcdef1234567890abcdef&src=GD_JOB_AD&t=SR&extid=1&exst=OL&ist=&ast=OL&vt=w&slr=true&rtp=0&cs=1_530d3dca&cb=1539382046763&jobListingId=2930264443',\n",
       " 'https://www.glassdoor.com/partner/jobListing.htm?pos=212&ao=136821&s=58&guid=1234567890abcdef1234567890abcdef&src=GD_JOB_AD&t=SR&extid=1&exst=OL&ist=&ast=OL&vt=w&slr=true&rtp=0&aa=1&ea=1&cs=1_085fdca9&cb=1539382046765&jobListingId=2725035780',\n",
       " 'https://www.glassdoor.com/partner/jobListing.htm?pos=213&ao=374215&s=58&guid=1234567890abcdef1234567890abcdef&src=GD_JOB_AD&t=SR&extid=1&exst=OL&ist=&ast=OL&vt=w&slr=true&rtp=0&cs=1_66fc8b95&cb=1539382046766&jobListingId=2678082322',\n",
       " 'https://www.glassdoor.com/partner/jobListing.htm?pos=214&ao=289020&s=58&guid=1234567890abcdef1234567890abcdef&src=GD_JOB_AD&t=SR&extid=1&exst=OL&ist=&ast=OL&vt=w&slr=true&rtp=0&aa=1&ea=1&cs=1_9a58eda9&cb=1539382046767&jobListingId=2823620656',\n",
       " 'https://www.glassdoor.com/partner/jobListing.htm?pos=215&ao=128229&s=58&guid=1234567890abcdef1234567890abcdef&src=GD_JOB_AD&t=SR&extid=1&exst=OL&ist=&ast=OL&vt=w&slr=true&rtp=0&cs=1_581ac288&cb=1539382046769&jobListingId=2987588619',\n",
       " 'https://www.glassdoor.com/partner/jobListing.htm?pos=216&ao=182481&s=58&guid=1234567890abcdef1234567890abcdef&src=GD_JOB_AD&t=SR&extid=1&exst=OL&ist=&ast=OL&vt=w&slr=true&rtp=0&cs=1_a20d4dc0&cb=1539382046770&jobListingId=2918407861',\n",
       " 'https://www.glassdoor.com/partner/jobListing.htm?pos=217&ao=133036&s=58&guid=1234567890abcdef1234567890abcdef&src=GD_JOB_AD&t=SR&extid=1&exst=OL&ist=&ast=OL&vt=w&slr=true&rtp=0&cs=1_ba4982fe&cb=1539382046771&jobListingId=2927553237',\n",
       " 'https://www.glassdoor.com/partner/jobListing.htm?pos=218&ao=182894&s=58&guid=1234567890abcdef1234567890abcdef&src=GD_JOB_AD&t=SR&extid=1&exst=OL&ist=&ast=OL&vt=w&slr=true&rtp=0&cs=1_b3bca7f0&cb=1539382046772&jobListingId=2972007193',\n",
       " 'https://www.glassdoor.com/partner/jobListing.htm?pos=219&ao=359521&s=58&guid=1234567890abcdef1234567890abcdef&src=GD_JOB_AD&t=SR&extid=1&exst=OL&ist=&ast=OL&vt=w&slr=true&rtp=0&cs=1_49540f1a&cb=1539382046774&jobListingId=2859410986',\n",
       " 'https://www.glassdoor.com/partner/jobListing.htm?pos=220&ao=374215&s=58&guid=1234567890abcdef1234567890abcdef&src=GD_JOB_AD&t=SR&extid=1&exst=OL&ist=&ast=OL&vt=w&slr=true&rtp=0&cs=1_f1d54999&cb=1539382046775&jobListingId=2982921586',\n",
       " 'https://www.glassdoor.com/partner/jobListing.htm?pos=221&ao=136726&s=58&guid=1234567890abcdef1234567890abcdef&src=GD_JOB_AD&t=SR&extid=1&exst=OL&ist=&ast=OL&vt=w&slr=true&rtp=0&cs=1_84384d12&cb=1539382046776&jobListingId=2988006389',\n",
       " 'https://www.glassdoor.com/partner/jobListing.htm?pos=222&ao=133392&s=58&guid=1234567890abcdef1234567890abcdef&src=GD_JOB_AD&t=SR&extid=1&exst=OL&ist=&ast=OL&vt=w&slr=true&rtp=0&cs=1_3b8d9fee&cb=1539382046778&jobListingId=2836814878',\n",
       " 'https://www.glassdoor.com/partner/jobListing.htm?pos=223&ao=157444&s=58&guid=1234567890abcdef1234567890abcdef&src=GD_JOB_AD&t=SR&extid=1&exst=OL&ist=&ast=OL&vt=w&slr=true&rtp=0&cs=1_2846c0c9&cb=1539382046779&jobListingId=2986883410',\n",
       " 'https://www.glassdoor.com/partner/jobListing.htm?pos=224&ao=179001&s=58&guid=1234567890abcdef1234567890abcdef&src=GD_JOB_AD&t=SR&extid=1&exst=OL&ist=&ast=OL&vt=w&slr=true&rtp=0&cs=1_2a9f6d93&cb=1539382046785&jobListingId=2959048202',\n",
       " 'https://www.glassdoor.com/partner/jobListing.htm?pos=225&ao=173354&s=58&guid=1234567890abcdef1234567890abcdef&src=GD_JOB_AD&t=SR&extid=1&exst=OL&ist=&ast=OL&vt=w&slr=true&rtp=0&cs=1_f33c0c3a&cb=1539382046786&jobListingId=2983367612',\n",
       " 'https://www.glassdoor.com/partner/jobListing.htm?pos=226&ao=297237&s=58&guid=1234567890abcdef1234567890abcdef&src=GD_JOB_AD&t=SR&extid=1&exst=OL&ist=&ast=OL&vt=w&slr=true&rtp=0&cs=1_d836cf7f&cb=1539382046788&jobListingId=2814617023',\n",
       " 'https://www.glassdoor.com/partner/jobListing.htm?pos=227&ao=349377&s=58&guid=1234567890abcdef1234567890abcdef&src=GD_JOB_AD&t=SR&extid=1&exst=OL&ist=&ast=OL&vt=w&slr=true&rtp=0&cs=1_c93df088&cb=1539382046789&jobListingId=2766856386',\n",
       " 'https://www.glassdoor.com/partner/jobListing.htm?pos=228&ao=190222&s=58&guid=1234567890abcdef1234567890abcdef&src=GD_JOB_AD&t=SR&extid=1&exst=OL&ist=&ast=OL&vt=w&slr=true&rtp=0&cs=1_6fd03b13&cb=1539382046790&jobListingId=2834799767',\n",
       " 'https://www.glassdoor.com/partner/jobListing.htm?pos=229&ao=83255&s=58&guid=1234567890abcdef1234567890abcdef&src=GD_JOB_AD&t=SR&extid=1&exst=OL&ist=&ast=OL&vt=w&slr=true&rtp=0&cs=1_e8bf8671&cb=1539382046791&jobListingId=2959317735']"
      ]
     },
     "execution_count": 185,
     "metadata": {},
     "output_type": "execute_result"
    }
   ],
   "source": [
    "ma_page_7_links = ['https://www.glassdoor.com'+ i for i in ma_page_7_urls]\n",
    "ma_page_7_links"
   ]
  },
  {
   "cell_type": "code",
   "execution_count": 33,
   "metadata": {},
   "outputs": [
    {
     "ename": "NameError",
     "evalue": "name 'tx_shape' is not defined",
     "output_type": "error",
     "traceback": [
      "\u001b[0;31m---------------------------------------------------------------------------\u001b[0m",
      "\u001b[0;31mNameError\u001b[0m                                 Traceback (most recent call last)",
      "\u001b[0;32m<ipython-input-33-268c9b9e338d>\u001b[0m in \u001b[0;36m<module>\u001b[0;34m()\u001b[0m\n\u001b[0;32m----> 1\u001b[0;31m \u001b[0;32mfor\u001b[0m \u001b[0mi\u001b[0m \u001b[0;32min\u001b[0m \u001b[0mrange\u001b[0m\u001b[0;34m(\u001b[0m\u001b[0mtx_shape\u001b[0m\u001b[0;34m[\u001b[0m\u001b[0;36m0\u001b[0m\u001b[0;34m]\u001b[0m\u001b[0;34m)\u001b[0m\u001b[0;34m:\u001b[0m\u001b[0;34m\u001b[0m\u001b[0m\n\u001b[0m\u001b[1;32m      2\u001b[0m     \u001b[0mtx_page\u001b[0m\u001b[0;34m\u001b[0m\u001b[0m\n",
      "\u001b[0;31mNameError\u001b[0m: name 'tx_shape' is not defined"
     ]
    }
   ],
   "source": [
    "for i in range(tx_shape[0]):\n",
    "    tx_page"
   ]
  },
  {
   "cell_type": "code",
   "execution_count": null,
   "metadata": {},
   "outputs": [],
   "source": []
  },
  {
   "cell_type": "code",
   "execution_count": null,
   "metadata": {},
   "outputs": [],
   "source": []
  }
 ],
 "metadata": {
  "kernelspec": {
   "display_name": "Python 3",
   "language": "python",
   "name": "python3"
  },
  "language_info": {
   "codemirror_mode": {
    "name": "ipython",
    "version": 3
   },
   "file_extension": ".py",
   "mimetype": "text/x-python",
   "name": "python",
   "nbconvert_exporter": "python",
   "pygments_lexer": "ipython3",
   "version": "3.6.4"
  }
 },
 "nbformat": 4,
 "nbformat_minor": 2
}
