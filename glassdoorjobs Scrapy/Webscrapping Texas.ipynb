{
 "cells": [
  {
   "cell_type": "code",
   "execution_count": 1,
   "metadata": {},
   "outputs": [
    {
     "name": "stdout",
     "output_type": "stream",
     "text": [
      "/Users/rajesharasada/Desktop/glassdoorjobs\r\n"
     ]
    }
   ],
   "source": [
    "!pwd"
   ]
  },
  {
   "cell_type": "code",
   "execution_count": 2,
   "metadata": {},
   "outputs": [],
   "source": [
    "import numpy as np\n",
    "import pandas as pd"
   ]
  },
  {
   "cell_type": "code",
   "execution_count": 6,
   "metadata": {},
   "outputs": [],
   "source": [
    "ny = pd.read_csv('job_links_NYC_new.csv')"
   ]
  },
  {
   "cell_type": "code",
   "execution_count": 7,
   "metadata": {},
   "outputs": [
    {
     "name": "stdout",
     "output_type": "stream",
     "text": [
      "(14, 1)\n"
     ]
    }
   ],
   "source": [
    "print(ny.shape)"
   ]
  },
  {
   "cell_type": "code",
   "execution_count": 9,
   "metadata": {},
   "outputs": [
    {
     "data": {
      "text/html": [
       "<div>\n",
       "<style scoped>\n",
       "    .dataframe tbody tr th:only-of-type {\n",
       "        vertical-align: middle;\n",
       "    }\n",
       "\n",
       "    .dataframe tbody tr th {\n",
       "        vertical-align: top;\n",
       "    }\n",
       "\n",
       "    .dataframe thead th {\n",
       "        text-align: right;\n",
       "    }\n",
       "</style>\n",
       "<table border=\"1\" class=\"dataframe\">\n",
       "  <thead>\n",
       "    <tr style=\"text-align: right;\">\n",
       "      <th></th>\n",
       "      <th>job_links</th>\n",
       "    </tr>\n",
       "  </thead>\n",
       "  <tbody>\n",
       "    <tr>\n",
       "      <th>0</th>\n",
       "      <td>/partner/jobListing.htm?pos=1401&amp;ao=319569&amp;s=5...</td>\n",
       "    </tr>\n",
       "    <tr>\n",
       "      <th>1</th>\n",
       "      <td>/partner/jobListing.htm?pos=1301&amp;ao=128418&amp;s=5...</td>\n",
       "    </tr>\n",
       "    <tr>\n",
       "      <th>2</th>\n",
       "      <td>/partner/jobListing.htm?pos=1201&amp;ao=134589&amp;s=5...</td>\n",
       "    </tr>\n",
       "    <tr>\n",
       "      <th>3</th>\n",
       "      <td>/partner/jobListing.htm?pos=1101&amp;ao=55774&amp;s=58...</td>\n",
       "    </tr>\n",
       "    <tr>\n",
       "      <th>4</th>\n",
       "      <td>/partner/jobListing.htm?pos=1001&amp;ao=7438&amp;s=58&amp;...</td>\n",
       "    </tr>\n",
       "  </tbody>\n",
       "</table>\n",
       "</div>"
      ],
      "text/plain": [
       "                                           job_links\n",
       "0  /partner/jobListing.htm?pos=1401&ao=319569&s=5...\n",
       "1  /partner/jobListing.htm?pos=1301&ao=128418&s=5...\n",
       "2  /partner/jobListing.htm?pos=1201&ao=134589&s=5...\n",
       "3  /partner/jobListing.htm?pos=1101&ao=55774&s=58...\n",
       "4  /partner/jobListing.htm?pos=1001&ao=7438&s=58&..."
      ]
     },
     "execution_count": 9,
     "metadata": {},
     "output_type": "execute_result"
    }
   ],
   "source": [
    "ny.head()"
   ]
  },
  {
   "cell_type": "code",
   "execution_count": 51,
   "metadata": {
    "scrolled": true
   },
   "outputs": [
    {
     "data": {
      "text/plain": [
       "'/partner/jobListing.htm?pos=101&ao=402131&s=58&guid=1234567890abcdef1234567890abcdef&src=GD_JOB_AD&t=SR&extid=1&exst=OL&ist=&ast=OL&vt=w&slr=true&rtp=0&cs=1_f498efeb&cb=1539462020281&jobListingId=2939312363,/partner/jobListing.htm?pos=102&ao=287382&s=58&guid=1234567890abcdef1234567890abcdef&src=GD_JOB_AD&t=SR&extid=1&exst=OL&ist=&ast=OL&vt=w&slr=true&rtp=0&cs=1_a53fbc38&cb=1539462020283&jobListingId=2974747357,/partner/jobListing.htm?pos=103&ao=358041&s=58&guid=1234567890abcdef1234567890abcdef&src=GD_JOB_AD&t=SR&extid=1&exst=OL&ist=&ast=OL&vt=w&slr=true&rtp=0&aa=1&ea=1&cs=1_114b4c77&cb=1539462020284&jobListingId=2805741309,/partner/jobListing.htm?pos=104&ao=413087&s=58&guid=1234567890abcdef1234567890abcdef&src=GD_JOB_AD&t=SR&extid=1&exst=OL&ist=&ast=OL&vt=w&slr=true&rtp=0&cs=1_839d92a8&cb=1539462020285&jobListingId=2557056478,/partner/jobListing.htm?pos=105&ao=338790&s=58&guid=1234567890abcdef1234567890abcdef&src=GD_JOB_AD&t=SR&extid=1&exst=OL&ist=&ast=OL&vt=w&slr=true&rtp=0&cs=1_27a0569f&cb=1539462020286&jobListingId=2972925577,/partner/jobListing.htm?pos=106&ao=375070&s=58&guid=1234567890abcdef1234567890abcdef&src=GD_JOB_AD&t=SR&extid=1&exst=OL&ist=&ast=OL&vt=w&slr=true&rtp=0&cs=1_26f32345&cb=1539462020287&jobListingId=2849832848,/partner/jobListing.htm?pos=107&ao=344176&s=58&guid=1234567890abcdef1234567890abcdef&src=GD_JOB_AD&t=SR&extid=1&exst=OL&ist=&ast=OL&vt=w&slr=true&rtp=0&aa=1&ea=1&cs=1_61f7a945&cb=1539462020289&jobListingId=2907798529,/partner/jobListing.htm?pos=108&ao=133198&s=58&guid=1234567890abcdef1234567890abcdef&src=GD_JOB_AD&t=SR&extid=1&exst=OL&ist=&ast=OL&vt=w&slr=true&rtp=0&cs=1_a723966a&cb=1539462020290&jobListingId=2897214882,/partner/jobListing.htm?pos=109&ao=319567&s=58&guid=1234567890abcdef1234567890abcdef&src=GD_JOB_AD&t=SR&extid=1&exst=OL&ist=&ast=OL&vt=w&slr=true&rtp=0&cs=1_a627bf66&cb=1539462020291&jobListingId=2611553797,/partner/jobListing.htm?pos=110&ao=313630&s=58&guid=1234567890abcdef1234567890abcdef&src=GD_JOB_AD&t=SR&extid=1&exst=OL&ist=&ast=OL&vt=w&slr=true&rtp=0&aa=1&ea=1&cs=1_21e63288&cb=1539462020292&jobListingId=2917900089,/partner/jobListing.htm?pos=111&ao=419983&s=58&guid=1234567890abcdef1234567890abcdef&src=GD_JOB_AD&t=SR&extid=1&exst=OL&ist=&ast=OL&vt=w&slr=true&rtp=0&cs=1_bbe1a6ef&cb=1539462020293&jobListingId=2984592042,/partner/jobListing.htm?pos=112&ao=242359&s=58&guid=1234567890abcdef1234567890abcdef&src=GD_JOB_AD&t=SR&extid=1&exst=OL&ist=&ast=OL&vt=w&slr=true&rtp=0&cs=1_48b172e6&cb=1539462020294&jobListingId=2974459973,/partner/jobListing.htm?pos=113&ao=330485&s=58&guid=1234567890abcdef1234567890abcdef&src=GD_JOB_AD&t=SR&extid=1&exst=OL&ist=&ast=OL&vt=w&slr=true&rtp=0&cs=1_7e406776&cb=1539462020295&jobListingId=2915385011,/partner/jobListing.htm?pos=114&ao=331706&s=58&guid=1234567890abcdef1234567890abcdef&src=GD_JOB_AD&t=SR&extid=1&exst=OL&ist=&ast=OL&vt=w&slr=true&rtp=0&aa=1&ea=1&cs=1_939c8652&cb=1539462020300&jobListingId=2705943974,/partner/jobListing.htm?pos=115&ao=303870&s=58&guid=1234567890abcdef1234567890abcdef&src=GD_JOB_AD&t=SR&extid=1&exst=OL&ist=&ast=OL&vt=w&slr=true&rtp=0&aa=1&ea=1&cs=1_206129fa&cb=1539462020302&jobListingId=1156693663,/partner/jobListing.htm?pos=116&ao=364049&s=58&guid=1234567890abcdef1234567890abcdef&src=GD_JOB_AD&t=SR&extid=1&exst=OL&ist=&ast=OL&vt=w&slr=true&rtp=0&cs=1_4cd71287&cb=1539462020303&jobListingId=2958057455,/partner/jobListing.htm?pos=117&ao=60007&s=58&guid=1234567890abcdef1234567890abcdef&src=GD_JOB_AD&t=SR&extid=1&exst=OL&ist=&ast=OL&vt=w&slr=true&rtp=0&cs=1_595db40b&cb=1539462020304&jobListingId=2916027190,/partner/jobListing.htm?pos=118&ao=319173&s=58&guid=1234567890abcdef1234567890abcdef&src=GD_JOB_AD&t=SR&extid=1&exst=OL&ist=&ast=OL&vt=w&slr=true&rtp=0&cs=1_90649c3a&cb=1539462020305&jobListingId=2661582104,/partner/jobListing.htm?pos=119&ao=14295&s=58&guid=1234567890abcdef1234567890abcdef&src=GD_JOB_AD&t=SR&extid=1&exst=OL&ist=&ast=OL&vt=w&slr=true&rtp=0&aa=1&ea=1&cs=1_3b0f9e31&cb=1539462020307&jobListingId=2956380556,/partner/jobListing.htm?pos=120&ao=294267&s=58&guid=1234567890abcdef1234567890abcdef&src=GD_JOB_AD&t=SR&extid=1&exst=OL&ist=&ast=OL&vt=w&slr=true&rtp=0&cs=1_cd0b8292&cb=1539462020308&jobListingId=2965394939,/partner/jobListing.htm?pos=121&ao=285774&s=58&guid=1234567890abcdef1234567890abcdef&src=GD_JOB_AD&t=SR&extid=1&exst=OL&ist=&ast=OL&vt=w&slr=true&rtp=0&cs=1_8f0bfd72&cb=1539462020310&jobListingId=2941379551,/partner/jobListing.htm?pos=122&ao=133838&s=58&guid=1234567890abcdef1234567890abcdef&src=GD_JOB_AD&t=SR&extid=1&exst=OL&ist=&ast=OL&vt=w&slr=true&rtp=0&cs=1_296dee9e&cb=1539462020311&jobListingId=2524274544,/partner/jobListing.htm?pos=123&ao=296173&s=58&guid=1234567890abcdef1234567890abcdef&src=GD_JOB_AD&t=SR&extid=1&exst=OL&ist=&ast=OL&vt=w&slr=true&rtp=0&cs=1_34970dd4&cb=1539462020313&jobListingId=2940477042,/partner/jobListing.htm?pos=124&ao=133874&s=58&guid=1234567890abcdef1234567890abcdef&src=GD_JOB_AD&t=SR&extid=1&exst=OL&ist=&ast=OL&vt=w&slr=true&rtp=0&cs=1_5b78a06e&cb=1539462020315&jobListingId=2858842681,/partner/jobListing.htm?pos=125&ao=242900&s=58&guid=1234567890abcdef1234567890abcdef&src=GD_JOB_AD&t=SR&extid=1&exst=OL&ist=&ast=OL&vt=w&slr=true&rtp=0&cs=1_2373738d&cb=1539462020316&jobListingId=2953865229,/partner/jobListing.htm?pos=126&ao=404780&s=58&guid=1234567890abcdef1234567890abcdef&src=GD_JOB_AD&t=SR&extid=1&exst=OL&ist=&ast=OL&vt=w&slr=true&rtp=0&aa=1&ea=1&cs=1_e7dee7ed&cb=1539462020317&jobListingId=2625550835,/partner/jobListing.htm?pos=127&ao=324700&s=58&guid=1234567890abcdef1234567890abcdef&src=GD_JOB_AD&t=SR&extid=1&exst=OL&ist=&ast=OL&vt=w&slr=true&rtp=0&aa=1&ea=1&cs=1_dc4faf39&cb=1539462020426&jobListingId=2838072059,/partner/jobListing.htm?pos=128&ao=112994&s=58&guid=1234567890abcdef1234567890abcdef&src=GD_JOB_AD&t=SR&extid=1&exst=OL&ist=&ast=OL&vt=w&slr=true&rtp=0&aa=1&ea=1&cs=1_bcde2217&cb=1539462020427&jobListingId=2953879816,/partner/jobListing.htm?pos=129&ao=359521&s=58&guid=1234567890abcdef1234567890abcdef&src=GD_JOB_AD&t=SR&extid=1&exst=OL&ist=&ast=OL&vt=w&slr=true&rtp=0&cs=1_b4468b80&cb=1539462020429&jobListingId=2859334189,/partner/jobListing.htm?pos=130&ao=375210&s=58&guid=1234567890abcdef1234567890abcdef&src=GD_JOB_AD&t=SR&extid=1&exst=OL&ist=&ast=OL&vt=w&slr=true&rtp=0&cs=1_d28a86f4&cb=1539462020430&jobListingId=2902460934'"
      ]
     },
     "execution_count": 51,
     "metadata": {},
     "output_type": "execute_result"
    }
   ],
   "source": [
    "ny_page_13 = ny['job_links'][13]\n",
    "ny_page_13"
   ]
  },
  {
   "cell_type": "code",
   "execution_count": 52,
   "metadata": {
    "scrolled": true
   },
   "outputs": [
    {
     "data": {
      "text/plain": [
       "['/partner/jobListing.htm?pos=101&ao=402131&s=58&guid=1234567890abcdef1234567890abcdef&src=GD_JOB_AD&t=SR&extid=1&exst=OL&ist=&ast=OL&vt=w&slr=true&rtp=0&cs=1_f498efeb&cb=1539462020281&jobListingId=2939312363',\n",
       " '/partner/jobListing.htm?pos=102&ao=287382&s=58&guid=1234567890abcdef1234567890abcdef&src=GD_JOB_AD&t=SR&extid=1&exst=OL&ist=&ast=OL&vt=w&slr=true&rtp=0&cs=1_a53fbc38&cb=1539462020283&jobListingId=2974747357',\n",
       " '/partner/jobListing.htm?pos=103&ao=358041&s=58&guid=1234567890abcdef1234567890abcdef&src=GD_JOB_AD&t=SR&extid=1&exst=OL&ist=&ast=OL&vt=w&slr=true&rtp=0&aa=1&ea=1&cs=1_114b4c77&cb=1539462020284&jobListingId=2805741309',\n",
       " '/partner/jobListing.htm?pos=104&ao=413087&s=58&guid=1234567890abcdef1234567890abcdef&src=GD_JOB_AD&t=SR&extid=1&exst=OL&ist=&ast=OL&vt=w&slr=true&rtp=0&cs=1_839d92a8&cb=1539462020285&jobListingId=2557056478',\n",
       " '/partner/jobListing.htm?pos=105&ao=338790&s=58&guid=1234567890abcdef1234567890abcdef&src=GD_JOB_AD&t=SR&extid=1&exst=OL&ist=&ast=OL&vt=w&slr=true&rtp=0&cs=1_27a0569f&cb=1539462020286&jobListingId=2972925577',\n",
       " '/partner/jobListing.htm?pos=106&ao=375070&s=58&guid=1234567890abcdef1234567890abcdef&src=GD_JOB_AD&t=SR&extid=1&exst=OL&ist=&ast=OL&vt=w&slr=true&rtp=0&cs=1_26f32345&cb=1539462020287&jobListingId=2849832848',\n",
       " '/partner/jobListing.htm?pos=107&ao=344176&s=58&guid=1234567890abcdef1234567890abcdef&src=GD_JOB_AD&t=SR&extid=1&exst=OL&ist=&ast=OL&vt=w&slr=true&rtp=0&aa=1&ea=1&cs=1_61f7a945&cb=1539462020289&jobListingId=2907798529',\n",
       " '/partner/jobListing.htm?pos=108&ao=133198&s=58&guid=1234567890abcdef1234567890abcdef&src=GD_JOB_AD&t=SR&extid=1&exst=OL&ist=&ast=OL&vt=w&slr=true&rtp=0&cs=1_a723966a&cb=1539462020290&jobListingId=2897214882',\n",
       " '/partner/jobListing.htm?pos=109&ao=319567&s=58&guid=1234567890abcdef1234567890abcdef&src=GD_JOB_AD&t=SR&extid=1&exst=OL&ist=&ast=OL&vt=w&slr=true&rtp=0&cs=1_a627bf66&cb=1539462020291&jobListingId=2611553797',\n",
       " '/partner/jobListing.htm?pos=110&ao=313630&s=58&guid=1234567890abcdef1234567890abcdef&src=GD_JOB_AD&t=SR&extid=1&exst=OL&ist=&ast=OL&vt=w&slr=true&rtp=0&aa=1&ea=1&cs=1_21e63288&cb=1539462020292&jobListingId=2917900089',\n",
       " '/partner/jobListing.htm?pos=111&ao=419983&s=58&guid=1234567890abcdef1234567890abcdef&src=GD_JOB_AD&t=SR&extid=1&exst=OL&ist=&ast=OL&vt=w&slr=true&rtp=0&cs=1_bbe1a6ef&cb=1539462020293&jobListingId=2984592042',\n",
       " '/partner/jobListing.htm?pos=112&ao=242359&s=58&guid=1234567890abcdef1234567890abcdef&src=GD_JOB_AD&t=SR&extid=1&exst=OL&ist=&ast=OL&vt=w&slr=true&rtp=0&cs=1_48b172e6&cb=1539462020294&jobListingId=2974459973',\n",
       " '/partner/jobListing.htm?pos=113&ao=330485&s=58&guid=1234567890abcdef1234567890abcdef&src=GD_JOB_AD&t=SR&extid=1&exst=OL&ist=&ast=OL&vt=w&slr=true&rtp=0&cs=1_7e406776&cb=1539462020295&jobListingId=2915385011',\n",
       " '/partner/jobListing.htm?pos=114&ao=331706&s=58&guid=1234567890abcdef1234567890abcdef&src=GD_JOB_AD&t=SR&extid=1&exst=OL&ist=&ast=OL&vt=w&slr=true&rtp=0&aa=1&ea=1&cs=1_939c8652&cb=1539462020300&jobListingId=2705943974',\n",
       " '/partner/jobListing.htm?pos=115&ao=303870&s=58&guid=1234567890abcdef1234567890abcdef&src=GD_JOB_AD&t=SR&extid=1&exst=OL&ist=&ast=OL&vt=w&slr=true&rtp=0&aa=1&ea=1&cs=1_206129fa&cb=1539462020302&jobListingId=1156693663',\n",
       " '/partner/jobListing.htm?pos=116&ao=364049&s=58&guid=1234567890abcdef1234567890abcdef&src=GD_JOB_AD&t=SR&extid=1&exst=OL&ist=&ast=OL&vt=w&slr=true&rtp=0&cs=1_4cd71287&cb=1539462020303&jobListingId=2958057455',\n",
       " '/partner/jobListing.htm?pos=117&ao=60007&s=58&guid=1234567890abcdef1234567890abcdef&src=GD_JOB_AD&t=SR&extid=1&exst=OL&ist=&ast=OL&vt=w&slr=true&rtp=0&cs=1_595db40b&cb=1539462020304&jobListingId=2916027190',\n",
       " '/partner/jobListing.htm?pos=118&ao=319173&s=58&guid=1234567890abcdef1234567890abcdef&src=GD_JOB_AD&t=SR&extid=1&exst=OL&ist=&ast=OL&vt=w&slr=true&rtp=0&cs=1_90649c3a&cb=1539462020305&jobListingId=2661582104',\n",
       " '/partner/jobListing.htm?pos=119&ao=14295&s=58&guid=1234567890abcdef1234567890abcdef&src=GD_JOB_AD&t=SR&extid=1&exst=OL&ist=&ast=OL&vt=w&slr=true&rtp=0&aa=1&ea=1&cs=1_3b0f9e31&cb=1539462020307&jobListingId=2956380556',\n",
       " '/partner/jobListing.htm?pos=120&ao=294267&s=58&guid=1234567890abcdef1234567890abcdef&src=GD_JOB_AD&t=SR&extid=1&exst=OL&ist=&ast=OL&vt=w&slr=true&rtp=0&cs=1_cd0b8292&cb=1539462020308&jobListingId=2965394939',\n",
       " '/partner/jobListing.htm?pos=121&ao=285774&s=58&guid=1234567890abcdef1234567890abcdef&src=GD_JOB_AD&t=SR&extid=1&exst=OL&ist=&ast=OL&vt=w&slr=true&rtp=0&cs=1_8f0bfd72&cb=1539462020310&jobListingId=2941379551',\n",
       " '/partner/jobListing.htm?pos=122&ao=133838&s=58&guid=1234567890abcdef1234567890abcdef&src=GD_JOB_AD&t=SR&extid=1&exst=OL&ist=&ast=OL&vt=w&slr=true&rtp=0&cs=1_296dee9e&cb=1539462020311&jobListingId=2524274544',\n",
       " '/partner/jobListing.htm?pos=123&ao=296173&s=58&guid=1234567890abcdef1234567890abcdef&src=GD_JOB_AD&t=SR&extid=1&exst=OL&ist=&ast=OL&vt=w&slr=true&rtp=0&cs=1_34970dd4&cb=1539462020313&jobListingId=2940477042',\n",
       " '/partner/jobListing.htm?pos=124&ao=133874&s=58&guid=1234567890abcdef1234567890abcdef&src=GD_JOB_AD&t=SR&extid=1&exst=OL&ist=&ast=OL&vt=w&slr=true&rtp=0&cs=1_5b78a06e&cb=1539462020315&jobListingId=2858842681',\n",
       " '/partner/jobListing.htm?pos=125&ao=242900&s=58&guid=1234567890abcdef1234567890abcdef&src=GD_JOB_AD&t=SR&extid=1&exst=OL&ist=&ast=OL&vt=w&slr=true&rtp=0&cs=1_2373738d&cb=1539462020316&jobListingId=2953865229',\n",
       " '/partner/jobListing.htm?pos=126&ao=404780&s=58&guid=1234567890abcdef1234567890abcdef&src=GD_JOB_AD&t=SR&extid=1&exst=OL&ist=&ast=OL&vt=w&slr=true&rtp=0&aa=1&ea=1&cs=1_e7dee7ed&cb=1539462020317&jobListingId=2625550835',\n",
       " '/partner/jobListing.htm?pos=127&ao=324700&s=58&guid=1234567890abcdef1234567890abcdef&src=GD_JOB_AD&t=SR&extid=1&exst=OL&ist=&ast=OL&vt=w&slr=true&rtp=0&aa=1&ea=1&cs=1_dc4faf39&cb=1539462020426&jobListingId=2838072059',\n",
       " '/partner/jobListing.htm?pos=128&ao=112994&s=58&guid=1234567890abcdef1234567890abcdef&src=GD_JOB_AD&t=SR&extid=1&exst=OL&ist=&ast=OL&vt=w&slr=true&rtp=0&aa=1&ea=1&cs=1_bcde2217&cb=1539462020427&jobListingId=2953879816',\n",
       " '/partner/jobListing.htm?pos=129&ao=359521&s=58&guid=1234567890abcdef1234567890abcdef&src=GD_JOB_AD&t=SR&extid=1&exst=OL&ist=&ast=OL&vt=w&slr=true&rtp=0&cs=1_b4468b80&cb=1539462020429&jobListingId=2859334189',\n",
       " '/partner/jobListing.htm?pos=130&ao=375210&s=58&guid=1234567890abcdef1234567890abcdef&src=GD_JOB_AD&t=SR&extid=1&exst=OL&ist=&ast=OL&vt=w&slr=true&rtp=0&cs=1_d28a86f4&cb=1539462020430&jobListingId=2902460934']"
      ]
     },
     "execution_count": 52,
     "metadata": {},
     "output_type": "execute_result"
    }
   ],
   "source": [
    "ny_page_13_urls = ny_page_13.split(',')\n",
    "ny_page_13_urls"
   ]
  },
  {
   "cell_type": "code",
   "execution_count": 53,
   "metadata": {
    "scrolled": true
   },
   "outputs": [
    {
     "data": {
      "text/plain": [
       "['https://www.glassdoor.com/partner/jobListing.htm?pos=101&ao=402131&s=58&guid=1234567890abcdef1234567890abcdef&src=GD_JOB_AD&t=SR&extid=1&exst=OL&ist=&ast=OL&vt=w&slr=true&rtp=0&cs=1_f498efeb&cb=1539462020281&jobListingId=2939312363',\n",
       " 'https://www.glassdoor.com/partner/jobListing.htm?pos=102&ao=287382&s=58&guid=1234567890abcdef1234567890abcdef&src=GD_JOB_AD&t=SR&extid=1&exst=OL&ist=&ast=OL&vt=w&slr=true&rtp=0&cs=1_a53fbc38&cb=1539462020283&jobListingId=2974747357',\n",
       " 'https://www.glassdoor.com/partner/jobListing.htm?pos=103&ao=358041&s=58&guid=1234567890abcdef1234567890abcdef&src=GD_JOB_AD&t=SR&extid=1&exst=OL&ist=&ast=OL&vt=w&slr=true&rtp=0&aa=1&ea=1&cs=1_114b4c77&cb=1539462020284&jobListingId=2805741309',\n",
       " 'https://www.glassdoor.com/partner/jobListing.htm?pos=104&ao=413087&s=58&guid=1234567890abcdef1234567890abcdef&src=GD_JOB_AD&t=SR&extid=1&exst=OL&ist=&ast=OL&vt=w&slr=true&rtp=0&cs=1_839d92a8&cb=1539462020285&jobListingId=2557056478',\n",
       " 'https://www.glassdoor.com/partner/jobListing.htm?pos=105&ao=338790&s=58&guid=1234567890abcdef1234567890abcdef&src=GD_JOB_AD&t=SR&extid=1&exst=OL&ist=&ast=OL&vt=w&slr=true&rtp=0&cs=1_27a0569f&cb=1539462020286&jobListingId=2972925577',\n",
       " 'https://www.glassdoor.com/partner/jobListing.htm?pos=106&ao=375070&s=58&guid=1234567890abcdef1234567890abcdef&src=GD_JOB_AD&t=SR&extid=1&exst=OL&ist=&ast=OL&vt=w&slr=true&rtp=0&cs=1_26f32345&cb=1539462020287&jobListingId=2849832848',\n",
       " 'https://www.glassdoor.com/partner/jobListing.htm?pos=107&ao=344176&s=58&guid=1234567890abcdef1234567890abcdef&src=GD_JOB_AD&t=SR&extid=1&exst=OL&ist=&ast=OL&vt=w&slr=true&rtp=0&aa=1&ea=1&cs=1_61f7a945&cb=1539462020289&jobListingId=2907798529',\n",
       " 'https://www.glassdoor.com/partner/jobListing.htm?pos=108&ao=133198&s=58&guid=1234567890abcdef1234567890abcdef&src=GD_JOB_AD&t=SR&extid=1&exst=OL&ist=&ast=OL&vt=w&slr=true&rtp=0&cs=1_a723966a&cb=1539462020290&jobListingId=2897214882',\n",
       " 'https://www.glassdoor.com/partner/jobListing.htm?pos=109&ao=319567&s=58&guid=1234567890abcdef1234567890abcdef&src=GD_JOB_AD&t=SR&extid=1&exst=OL&ist=&ast=OL&vt=w&slr=true&rtp=0&cs=1_a627bf66&cb=1539462020291&jobListingId=2611553797',\n",
       " 'https://www.glassdoor.com/partner/jobListing.htm?pos=110&ao=313630&s=58&guid=1234567890abcdef1234567890abcdef&src=GD_JOB_AD&t=SR&extid=1&exst=OL&ist=&ast=OL&vt=w&slr=true&rtp=0&aa=1&ea=1&cs=1_21e63288&cb=1539462020292&jobListingId=2917900089',\n",
       " 'https://www.glassdoor.com/partner/jobListing.htm?pos=111&ao=419983&s=58&guid=1234567890abcdef1234567890abcdef&src=GD_JOB_AD&t=SR&extid=1&exst=OL&ist=&ast=OL&vt=w&slr=true&rtp=0&cs=1_bbe1a6ef&cb=1539462020293&jobListingId=2984592042',\n",
       " 'https://www.glassdoor.com/partner/jobListing.htm?pos=112&ao=242359&s=58&guid=1234567890abcdef1234567890abcdef&src=GD_JOB_AD&t=SR&extid=1&exst=OL&ist=&ast=OL&vt=w&slr=true&rtp=0&cs=1_48b172e6&cb=1539462020294&jobListingId=2974459973',\n",
       " 'https://www.glassdoor.com/partner/jobListing.htm?pos=113&ao=330485&s=58&guid=1234567890abcdef1234567890abcdef&src=GD_JOB_AD&t=SR&extid=1&exst=OL&ist=&ast=OL&vt=w&slr=true&rtp=0&cs=1_7e406776&cb=1539462020295&jobListingId=2915385011',\n",
       " 'https://www.glassdoor.com/partner/jobListing.htm?pos=114&ao=331706&s=58&guid=1234567890abcdef1234567890abcdef&src=GD_JOB_AD&t=SR&extid=1&exst=OL&ist=&ast=OL&vt=w&slr=true&rtp=0&aa=1&ea=1&cs=1_939c8652&cb=1539462020300&jobListingId=2705943974',\n",
       " 'https://www.glassdoor.com/partner/jobListing.htm?pos=115&ao=303870&s=58&guid=1234567890abcdef1234567890abcdef&src=GD_JOB_AD&t=SR&extid=1&exst=OL&ist=&ast=OL&vt=w&slr=true&rtp=0&aa=1&ea=1&cs=1_206129fa&cb=1539462020302&jobListingId=1156693663',\n",
       " 'https://www.glassdoor.com/partner/jobListing.htm?pos=116&ao=364049&s=58&guid=1234567890abcdef1234567890abcdef&src=GD_JOB_AD&t=SR&extid=1&exst=OL&ist=&ast=OL&vt=w&slr=true&rtp=0&cs=1_4cd71287&cb=1539462020303&jobListingId=2958057455',\n",
       " 'https://www.glassdoor.com/partner/jobListing.htm?pos=117&ao=60007&s=58&guid=1234567890abcdef1234567890abcdef&src=GD_JOB_AD&t=SR&extid=1&exst=OL&ist=&ast=OL&vt=w&slr=true&rtp=0&cs=1_595db40b&cb=1539462020304&jobListingId=2916027190',\n",
       " 'https://www.glassdoor.com/partner/jobListing.htm?pos=118&ao=319173&s=58&guid=1234567890abcdef1234567890abcdef&src=GD_JOB_AD&t=SR&extid=1&exst=OL&ist=&ast=OL&vt=w&slr=true&rtp=0&cs=1_90649c3a&cb=1539462020305&jobListingId=2661582104',\n",
       " 'https://www.glassdoor.com/partner/jobListing.htm?pos=119&ao=14295&s=58&guid=1234567890abcdef1234567890abcdef&src=GD_JOB_AD&t=SR&extid=1&exst=OL&ist=&ast=OL&vt=w&slr=true&rtp=0&aa=1&ea=1&cs=1_3b0f9e31&cb=1539462020307&jobListingId=2956380556',\n",
       " 'https://www.glassdoor.com/partner/jobListing.htm?pos=120&ao=294267&s=58&guid=1234567890abcdef1234567890abcdef&src=GD_JOB_AD&t=SR&extid=1&exst=OL&ist=&ast=OL&vt=w&slr=true&rtp=0&cs=1_cd0b8292&cb=1539462020308&jobListingId=2965394939',\n",
       " 'https://www.glassdoor.com/partner/jobListing.htm?pos=121&ao=285774&s=58&guid=1234567890abcdef1234567890abcdef&src=GD_JOB_AD&t=SR&extid=1&exst=OL&ist=&ast=OL&vt=w&slr=true&rtp=0&cs=1_8f0bfd72&cb=1539462020310&jobListingId=2941379551',\n",
       " 'https://www.glassdoor.com/partner/jobListing.htm?pos=122&ao=133838&s=58&guid=1234567890abcdef1234567890abcdef&src=GD_JOB_AD&t=SR&extid=1&exst=OL&ist=&ast=OL&vt=w&slr=true&rtp=0&cs=1_296dee9e&cb=1539462020311&jobListingId=2524274544',\n",
       " 'https://www.glassdoor.com/partner/jobListing.htm?pos=123&ao=296173&s=58&guid=1234567890abcdef1234567890abcdef&src=GD_JOB_AD&t=SR&extid=1&exst=OL&ist=&ast=OL&vt=w&slr=true&rtp=0&cs=1_34970dd4&cb=1539462020313&jobListingId=2940477042',\n",
       " 'https://www.glassdoor.com/partner/jobListing.htm?pos=124&ao=133874&s=58&guid=1234567890abcdef1234567890abcdef&src=GD_JOB_AD&t=SR&extid=1&exst=OL&ist=&ast=OL&vt=w&slr=true&rtp=0&cs=1_5b78a06e&cb=1539462020315&jobListingId=2858842681',\n",
       " 'https://www.glassdoor.com/partner/jobListing.htm?pos=125&ao=242900&s=58&guid=1234567890abcdef1234567890abcdef&src=GD_JOB_AD&t=SR&extid=1&exst=OL&ist=&ast=OL&vt=w&slr=true&rtp=0&cs=1_2373738d&cb=1539462020316&jobListingId=2953865229',\n",
       " 'https://www.glassdoor.com/partner/jobListing.htm?pos=126&ao=404780&s=58&guid=1234567890abcdef1234567890abcdef&src=GD_JOB_AD&t=SR&extid=1&exst=OL&ist=&ast=OL&vt=w&slr=true&rtp=0&aa=1&ea=1&cs=1_e7dee7ed&cb=1539462020317&jobListingId=2625550835',\n",
       " 'https://www.glassdoor.com/partner/jobListing.htm?pos=127&ao=324700&s=58&guid=1234567890abcdef1234567890abcdef&src=GD_JOB_AD&t=SR&extid=1&exst=OL&ist=&ast=OL&vt=w&slr=true&rtp=0&aa=1&ea=1&cs=1_dc4faf39&cb=1539462020426&jobListingId=2838072059',\n",
       " 'https://www.glassdoor.com/partner/jobListing.htm?pos=128&ao=112994&s=58&guid=1234567890abcdef1234567890abcdef&src=GD_JOB_AD&t=SR&extid=1&exst=OL&ist=&ast=OL&vt=w&slr=true&rtp=0&aa=1&ea=1&cs=1_bcde2217&cb=1539462020427&jobListingId=2953879816',\n",
       " 'https://www.glassdoor.com/partner/jobListing.htm?pos=129&ao=359521&s=58&guid=1234567890abcdef1234567890abcdef&src=GD_JOB_AD&t=SR&extid=1&exst=OL&ist=&ast=OL&vt=w&slr=true&rtp=0&cs=1_b4468b80&cb=1539462020429&jobListingId=2859334189',\n",
       " 'https://www.glassdoor.com/partner/jobListing.htm?pos=130&ao=375210&s=58&guid=1234567890abcdef1234567890abcdef&src=GD_JOB_AD&t=SR&extid=1&exst=OL&ist=&ast=OL&vt=w&slr=true&rtp=0&cs=1_d28a86f4&cb=1539462020430&jobListingId=2902460934']"
      ]
     },
     "execution_count": 53,
     "metadata": {},
     "output_type": "execute_result"
    }
   ],
   "source": [
    "ny_page_13_links = ['https://www.glassdoor.com'+ i for i in ny_page_13_urls]\n",
    "ny_page_13_links"
   ]
  },
  {
   "cell_type": "code",
   "execution_count": 33,
   "metadata": {},
   "outputs": [
    {
     "ename": "NameError",
     "evalue": "name 'tx_shape' is not defined",
     "output_type": "error",
     "traceback": [
      "\u001b[0;31m---------------------------------------------------------------------------\u001b[0m",
      "\u001b[0;31mNameError\u001b[0m                                 Traceback (most recent call last)",
      "\u001b[0;32m<ipython-input-33-268c9b9e338d>\u001b[0m in \u001b[0;36m<module>\u001b[0;34m()\u001b[0m\n\u001b[0;32m----> 1\u001b[0;31m \u001b[0;32mfor\u001b[0m \u001b[0mi\u001b[0m \u001b[0;32min\u001b[0m \u001b[0mrange\u001b[0m\u001b[0;34m(\u001b[0m\u001b[0mtx_shape\u001b[0m\u001b[0;34m[\u001b[0m\u001b[0;36m0\u001b[0m\u001b[0;34m]\u001b[0m\u001b[0;34m)\u001b[0m\u001b[0;34m:\u001b[0m\u001b[0;34m\u001b[0m\u001b[0m\n\u001b[0m\u001b[1;32m      2\u001b[0m     \u001b[0mtx_page\u001b[0m\u001b[0;34m\u001b[0m\u001b[0m\n",
      "\u001b[0;31mNameError\u001b[0m: name 'tx_shape' is not defined"
     ]
    }
   ],
   "source": [
    "for i in range(tx_shape[0]):\n",
    "    tx_page"
   ]
  },
  {
   "cell_type": "code",
   "execution_count": null,
   "metadata": {},
   "outputs": [],
   "source": []
  },
  {
   "cell_type": "code",
   "execution_count": null,
   "metadata": {},
   "outputs": [],
   "source": []
  }
 ],
 "metadata": {
  "kernelspec": {
   "display_name": "Python 3",
   "language": "python",
   "name": "python3"
  },
  "language_info": {
   "codemirror_mode": {
    "name": "ipython",
    "version": 3
   },
   "file_extension": ".py",
   "mimetype": "text/x-python",
   "name": "python",
   "nbconvert_exporter": "python",
   "pygments_lexer": "ipython3",
   "version": "3.6.4"
  }
 },
 "nbformat": 4,
 "nbformat_minor": 2
}
